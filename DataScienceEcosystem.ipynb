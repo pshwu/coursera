{
 "cells": [
  {
   "cell_type": "markdown",
   "id": "19dfc25c-6030-45a1-88bd-6abc3dffe71f",
   "metadata": {},
   "source": [
    "# Data Science Tools and Ecosystem"
   ]
  },
  {
   "cell_type": "markdown",
   "id": "686fb4ce-ad8f-413b-8458-93abf51a003b",
   "metadata": {},
   "source": [
    "In this notebook, Data Science Tools and Ecosystem are summarized. "
   ]
  },
  {
   "cell_type": "markdown",
   "id": "211f09c5-e919-41a3-baa4-0f5234ca902c",
   "metadata": {},
   "source": [
    "Some of the popular languages that Data Scientists use are: "
   ]
  },
  {
   "cell_type": "markdown",
   "id": "3c674eb6-0ea5-4780-b31b-f11b29ead9b2",
   "metadata": {},
   "source": [
    "1. Python\n",
    "2. R\n",
    "3. Julia\n",
    "4. Scala"
   ]
  },
  {
   "cell_type": "markdown",
   "id": "86090467-f371-449f-86ab-1136c8c574e2",
   "metadata": {},
   "source": [
    "Some of the commonly used libraries used by Data Scientists include:"
   ]
  },
  {
   "cell_type": "markdown",
   "id": "fbe0dcc7-6ace-4b00-a737-5b0ed1f7b6d2",
   "metadata": {},
   "source": [
    "1. pandas\n",
    "2. numpy\n",
    "3. scipy\n",
    "4. scikit-learn"
   ]
  },
  {
   "cell_type": "markdown",
   "id": "e1672bca-4b9e-4ce2-97ce-df6e9b61e458",
   "metadata": {},
   "source": [
    "| Data Science Tools |\n",
    "| --- |\n",
    "| Rstudio |\n",
    "| Spyder |\n",
    "| jupyterlab |"
   ]
  },
  {
   "cell_type": "markdown",
   "id": "75e10ca6-b0be-4e4a-b228-e80280cf5151",
   "metadata": {},
   "source": [
    "### Below are a few examples of evaluating arithmetic expressions in Python"
   ]
  },
  {
   "cell_type": "code",
   "execution_count": 2,
   "id": "09b658df-981e-43bb-b9e6-e8fc34858910",
   "metadata": {
    "tags": []
   },
   "outputs": [
    {
     "data": {
      "text/plain": [
       "17"
      ]
     },
     "execution_count": 2,
     "metadata": {},
     "output_type": "execute_result"
    }
   ],
   "source": [
    "# this is a simple arithmetic expression to mutiply then add integers\n",
    "(3*4)+5"
   ]
  },
  {
   "cell_type": "code",
   "execution_count": 3,
   "id": "374fba83-9310-4849-bd1f-7b745e690fa6",
   "metadata": {
    "tags": []
   },
   "outputs": [
    {
     "data": {
      "text/plain": [
       "3.3333333333333335"
      ]
     },
     "execution_count": 3,
     "metadata": {},
     "output_type": "execute_result"
    }
   ],
   "source": [
    "# This will convert 200 minutes to hours by dividing by 60\n",
    "200 / 60"
   ]
  },
  {
   "cell_type": "markdown",
   "id": "73df5199-c828-485b-b9a6-5d17bce1d3d1",
   "metadata": {},
   "source": [
    "**Objectives:**\n",
    "* List popular languages for Data Science\n",
    "* Create a code cell to convert minnutes to hours\n",
    "* List data science libraris\n",
    "* Create a markdown cell with a table of Data Science tools"
   ]
  },
  {
   "cell_type": "markdown",
   "id": "1e6b2fed-5eb8-443d-87e1-369eb888046a",
   "metadata": {
    "tags": []
   },
   "source": [
    "## Author\n",
    "Peter Wu"
   ]
  },
  {
   "cell_type": "code",
   "execution_count": null,
   "id": "2784083c-ab96-4ad8-8013-dbc955802371",
   "metadata": {},
   "outputs": [],
   "source": []
  }
 ],
 "metadata": {
  "kernelspec": {
   "display_name": "Python",
   "language": "python",
   "name": "conda-env-python-py"
  },
  "language_info": {
   "codemirror_mode": {
    "name": "ipython",
    "version": 3
   },
   "file_extension": ".py",
   "mimetype": "text/x-python",
   "name": "python",
   "nbconvert_exporter": "python",
   "pygments_lexer": "ipython3",
   "version": "3.7.12"
  }
 },
 "nbformat": 4,
 "nbformat_minor": 5
}
